{
  "nbformat": 4,
  "nbformat_minor": 5,
  "metadata": {},
  "cells": [
    {
      "id": "c5be31c0",
      "cell_type": "code",
      "metadata": {},
      "execution_count": null,
      "source": "\n# \ud83d\udccc \u0428\u0430\u0433 1. \u0418\u043c\u043f\u043e\u0440\u0442 \u0431\u0438\u0431\u043b\u0438\u043e\u0442\u0435\u043a\nimport pandas as pd\nimport seaborn as sns\nimport matplotlib.pyplot as plt\nfrom sklearn.model_selection import train_test_split\nfrom sklearn.linear_model import LogisticRegression\nfrom sklearn.metrics import accuracy_score, classification_report\nimport numpy as np\nimport warnings\nwarnings.filterwarnings(\"ignore\")\n\n# \ud83d\udccc \u0428\u0430\u0433 2. \u0417\u0430\u0433\u0440\u0443\u0437\u043a\u0430 \u0434\u0430\u043d\u043d\u044b\u0445\nfrom google.colab import files\nuploaded = files.upload()  # \u0417\u0430\u0433\u0440\u0443\u0437\u0438\u0442\u0435 iris.csv\n\ndf = pd.read_csv(\"iris.csv\")\ndf.head()\n",
      "outputs": []
    },
    {
      "id": "d043182d",
      "cell_type": "code",
      "metadata": {},
      "execution_count": null,
      "source": "\n# \ud83d\udcca \u0413\u0438\u0441\u0442\u043e\u0433\u0440\u0430\u043c\u043c\u0430 \u0434\u043b\u0438\u043d\u044b \u043b\u0435\u043f\u0435\u0441\u0442\u043a\u0430\nplt.figure(figsize=(6,4))\nsns.histplot(df[\"petal_length\"], kde=True, color='skyblue')\nplt.title(\"\u0413\u0438\u0441\u0442\u043e\u0433\u0440\u0430\u043c\u043c\u0430 \u0434\u043b\u0438\u043d\u044b \u043b\u0435\u043f\u0435\u0441\u0442\u043a\u0430\")\nplt.xlabel(\"Petal Length\")\nplt.ylabel(\"\u041a\u043e\u043b\u0438\u0447\u0435\u0441\u0442\u0432\u043e\")\nplt.show()\n\n# \ud83d\udcc8 \u0414\u0438\u0430\u0433\u0440\u0430\u043c\u043c\u0430 \u0440\u0430\u0441\u0441\u0435\u044f\u043d\u0438\u044f\nsns.scatterplot(data=df, x=\"sepal_length\", y=\"sepal_width\", hue=\"species\")\nplt.title(\"\u0414\u0438\u0430\u0433\u0440\u0430\u043c\u043c\u0430 \u0440\u0430\u0441\u0441\u0435\u044f\u043d\u0438\u044f \u043f\u043e \u0432\u0438\u0434\u0430\u043c\")\nplt.show()\n\n# \ud83d\udcd1 \u0421\u0442\u0430\u0442\u0438\u0441\u0442\u0438\u043a\u0430\ndf.describe()\n",
      "outputs": []
    },
    {
      "id": "19914f50",
      "cell_type": "code",
      "metadata": {},
      "execution_count": null,
      "source": "\n# \ud83c\udfaf \u041f\u0440\u0438\u0437\u043d\u0430\u043a\u0438 \u0438 \u0446\u0435\u043b\u0435\u0432\u0430\u044f \u043f\u0435\u0440\u0435\u043c\u0435\u043d\u043d\u0430\u044f\nfeatures = ['sepal_length', 'sepal_width', 'petal_length', 'petal_width']\nX = df[features]\ny = df[\"species\"]\n\n# \ud83d\udd00 \u0420\u0430\u0437\u0434\u0435\u043b\u0435\u043d\u0438\u0435 \u043d\u0430 \u043e\u0431\u0443\u0447\u0430\u044e\u0449\u0443\u044e \u0438 \u0442\u0435\u0441\u0442\u043e\u0432\u0443\u044e \u0432\u044b\u0431\u043e\u0440\u043a\u0438\nX_train, X_test, y_train, y_test = train_test_split(X, y, test_size=0.2, random_state=42)\n\n# \ud83e\udd16 \u041e\u0431\u0443\u0447\u0435\u043d\u0438\u0435 \u043c\u043e\u0434\u0435\u043b\u0438\nmodel = LogisticRegression(max_iter=200)\nmodel.fit(X_train, y_train)\n\n# \ud83d\udcca \u041e\u0446\u0435\u043d\u043a\u0430 \u043c\u043e\u0434\u0435\u043b\u0438\ny_pred = model.predict(X_test)\nacc = accuracy_score(y_test, y_pred)\nprint(f\"\u0422\u043e\u0447\u043d\u043e\u0441\u0442\u044c \u043c\u043e\u0434\u0435\u043b\u0438: {acc:.2%}\")\nprint(\"\\n\u041a\u043b\u0430\u0441\u0441\u0438\u0444\u0438\u043a\u0430\u0446\u0438\u043e\u043d\u043d\u044b\u0439 \u043e\u0442\u0447\u0451\u0442:\\n\", classification_report(y_test, y_pred))\n",
      "outputs": []
    },
    {
      "id": "afe4858b",
      "cell_type": "code",
      "metadata": {},
      "execution_count": null,
      "source": "\n# \ud83d\udcac \u041f\u0440\u0438\u043c\u0435\u0440 \u043f\u0440\u0435\u0434\u0441\u043a\u0430\u0437\u0430\u043d\u0438\u044f\nexample = {\n    'sepal_length': 5.1,\n    'sepal_width': 3.5,\n    'petal_length': 1.4,\n    'petal_width': 0.2\n}\ninput_df = pd.DataFrame([example])\nprediction = model.predict(input_df)[0]\nprint(f\"\ud83c\udf3c \u041f\u0440\u0435\u0434\u0441\u043a\u0430\u0437\u0430\u043d\u043d\u044b\u0439 \u0432\u0438\u0434 \u0446\u0432\u0435\u0442\u043a\u0430: {prediction}\")\n",
      "outputs": []
    },
    {
      "id": "0ebf0c92",
      "cell_type": "code",
      "metadata": {},
      "execution_count": null,
      "source": "\nimport joblib\njoblib.dump(model, \"iris_model.pkl\")\nprint(\"\u2705 \u041c\u043e\u0434\u0435\u043b\u044c \u0441\u043e\u0445\u0440\u0430\u043d\u0435\u043d\u0430 \u043a\u0430\u043a iris_model.pkl\")\n",
      "outputs": []
    }
  ]
}